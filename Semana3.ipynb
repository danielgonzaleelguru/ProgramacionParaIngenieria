{
 "cells": [
  {
   "cell_type": "markdown",
   "metadata": {},
   "source": [
    "<h1><p style=\"text-align:center\">Condicionales y Ciclos</p></h1>"
   ]
  },
  {
   "cell_type": "markdown",
   "metadata": {},
   "source": [
    "## Condicionales"
   ]
  },
  {
   "cell_type": "code",
   "execution_count": 8,
   "metadata": {},
   "outputs": [
    {
     "name": "stdout",
     "output_type": "stream",
     "text": [
      "Expresión evaluada es falsa\n",
      "Evaluación de condición es verdadera\n",
      "X 5\n"
     ]
    }
   ],
   "source": [
    "a=10\n",
    "b=6\n",
    "c=7\n",
    "d=5\n",
    "if a>b and c<d:\n",
    "    print(\"Expresión evaluada es verdadera\")\n",
    "else:\n",
    "    print(\"Expresión evaluada es falsa\")\n",
    "\n",
    "\n",
    "if a >c:\n",
    "    print(\"Evaluación de condición es verdadera\")   \n",
    "\n",
    "x = 5\n",
    "if x == 5:\n",
    "    print(\"X 5\")\n",
    "elif x == 6:\n",
    "    print(\"X 6\")\n",
    "elif x == 7:\n",
    "    print(\"X 7\")     \n",
    "\n"
   ]
  },
  {
   "cell_type": "markdown",
   "metadata": {},
   "source": [
    "## Condicionales anidados"
   ]
  },
  {
   "cell_type": "code",
   "execution_count": 6,
   "metadata": {},
   "outputs": [
    {
     "name": "stdout",
     "output_type": "stream",
     "text": [
      "Expresión evaluada es falsa\n"
     ]
    }
   ],
   "source": [
    "if a>b and c<d:\n",
    "    print(\"Expresión evaluada es verdadera\")\n",
    "    if a >c:\n",
    "         print(\"Evaluación de condición es verdadera\")  \n",
    "else:\n",
    "    print(\"Expresión evaluada es falsa\")\n",
    "\n",
    "\n",
    " "
   ]
  },
  {
   "cell_type": "markdown",
   "metadata": {},
   "source": [
    "## Operador ternario"
   ]
  },
  {
   "cell_type": "code",
   "execution_count": 9,
   "metadata": {},
   "outputs": [
    {
     "name": "stdout",
     "output_type": "stream",
     "text": [
      "Es 5\n"
     ]
    }
   ],
   "source": [
    "x = 5\n",
    "print(\"Es 5\" if x == 5 else \"No es 5\")\n"
   ]
  },
  {
   "cell_type": "markdown",
   "metadata": {},
   "source": [
    "## Ciclo Para  o Bucle for"
   ]
  },
  {
   "cell_type": "code",
   "execution_count": null,
   "metadata": {},
   "outputs": [],
   "source": [
    "for i in range(0, 5):\n",
    "    print(i)\n",
    "\n",
    "    "
   ]
  },
  {
   "cell_type": "markdown",
   "metadata": {},
   "source": [
    "## Ciclo Para  aninado"
   ]
  },
  {
   "cell_type": "code",
   "execution_count": null,
   "metadata": {},
   "outputs": [],
   "source": [
    "for i in range(0, 5):\n",
    "    print(i)\n",
    "    for j in range(0, 5):\n",
    "        print(\"-\",j)"
   ]
  },
  {
   "cell_type": "markdown",
   "metadata": {},
   "source": [
    "## Ciclo Mientras o Bucles While"
   ]
  },
  {
   "cell_type": "code",
   "execution_count": null,
   "metadata": {},
   "outputs": [],
   "source": [
    "x = 5\n",
    "while x > 0:\n",
    "    x -=1\n",
    "    print(x)"
   ]
  },
  {
   "cell_type": "markdown",
   "metadata": {},
   "source": [
    "## Ciclo Mientras o Bucles While"
   ]
  },
  {
   "cell_type": "code",
   "execution_count": null,
   "metadata": {},
   "outputs": [],
   "source": [
    "x = 5\n",
    "while x > 0:\n",
    "    x -=1\n",
    "    print(x)\n",
    "    j = 6\n",
    "    while j > 0:\n",
    "        j -=1\n",
    "        print(\"-\",j)"
   ]
  }
 ],
 "metadata": {
  "kernelspec": {
   "display_name": "Python 3",
   "language": "python",
   "name": "python3"
  },
  "language_info": {
   "codemirror_mode": {
    "name": "ipython",
    "version": 3
   },
   "file_extension": ".py",
   "mimetype": "text/x-python",
   "name": "python",
   "nbconvert_exporter": "python",
   "pygments_lexer": "ipython3",
   "version": "3.12.0"
  }
 },
 "nbformat": 4,
 "nbformat_minor": 2
}
