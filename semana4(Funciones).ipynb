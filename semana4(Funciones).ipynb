{
 "cells": [
  {
   "cell_type": "markdown",
   "metadata": {},
   "source": [
    "<h1><p style=\"text-align:center\">Funciones</p></h1>"
   ]
  },
  {
   "cell_type": "markdown",
   "metadata": {},
   "source": [
    "## Definición de una función"
   ]
  },
  {
   "cell_type": "code",
   "execution_count": 5,
   "metadata": {},
   "outputs": [
    {
     "name": "stdout",
     "output_type": "stream",
     "text": [
      "3.1416\n"
     ]
    }
   ],
   "source": [
    "def valuePi():\n",
    "    return 3.1416\n",
    "\n",
    "print(valuePi())\n",
    "\n"
   ]
  },
  {
   "cell_type": "markdown",
   "metadata": {},
   "source": [
    "## Funciones con argumentos"
   ]
  },
  {
   "cell_type": "code",
   "execution_count": 17,
   "metadata": {},
   "outputs": [
    {
     "name": "stdout",
     "output_type": "stream",
     "text": [
      "La suma es: 3\n",
      "La potencia de 2 elevado a la  2 es 4 \n",
      "2.0\n",
      "2.0\n"
     ]
    }
   ],
   "source": [
    "def suma(num1, num2):\n",
    "    resultado = num1+num2\n",
    "    return resultado\n",
    "\n",
    "# La función debe estar definida antes de su uso\n",
    "print(\"La suma es:\", suma(1,2))\n",
    "\n",
    "#Funciones que no retornan variables\n",
    "def potencia(numero, exponente):\n",
    "    potencia = numero**exponente\n",
    "    print(f\"La potencia de {numero} elevado a la  {exponente} es {potencia} \") # print usando f-string. Recuerde la f antes del string.\n",
    "    \n",
    "\n",
    "potencia(2,2)\n",
    "\n",
    "#función con valores por defecto en los argumentos.\n",
    "def division(dividendo, divisor=1):\n",
    "    cociente= dividendo /divisor\n",
    "    return cociente\n",
    "\n",
    "print(division(2)) ## la función hace uso del argumento por defecto.\n",
    "print(division(10,5)) ## la funcion cambia el valor del argumento por defecto."
   ]
  },
  {
   "cell_type": "markdown",
   "metadata": {},
   "source": [
    "## Funciones especiales lambda, filter y map"
   ]
  },
  {
   "cell_type": "markdown",
   "metadata": {},
   "source": []
  },
  {
   "cell_type": "markdown",
   "metadata": {},
   "source": [
    "## Uso de librerías en Python\n",
    "\n",
    "Python incorpora una libreria básica llamada la biblioteca estándar. Esta biblioteca viene instalada con python y trae  \"libros\" o módulos  especiales  repletos  de funciones. Un ejemplo de estos móduoos es datetime que tiene funciones para manejo de fechas y tiempo.Ejecute los ejemplos."
   ]
  },
  {
   "cell_type": "code",
   "execution_count": 10,
   "metadata": {},
   "outputs": [
    {
     "name": "stdout",
     "output_type": "stream",
     "text": [
      "La fecha de hoy es: June 21, 2024\n",
      "Coseno de 20 es,0.408082061813392\n",
      "Valor de pi 3.141592653589793\n",
      "La media de los valores es  3\n"
     ]
    }
   ],
   "source": [
    "import datetime\n",
    "\n",
    "today = datetime.datetime.today()\n",
    "print(f\"La fecha de hoy es: {today:%B %d, %Y}\")\n",
    "\n",
    "import math as m # importando la librería matemátia y reconombrandolo como m.\n",
    "numero = 20\n",
    "consAngulo = m.cos(numero)\n",
    "print(f\"Coseno de {numero} es,{consAngulo}\")\n",
    "print(\"Valor de pi\",m.pi)\n",
    "\n",
    "import statistics as s\n",
    "#consultar la librería statitics para ampliar información: https://docs.python.org/3/library/statistics.html\n",
    "\n",
    "print(\"La media de los valores es \",s.mean([2,3,4]))\n"
   ]
  },
  {
   "cell_type": "markdown",
   "metadata": {},
   "source": [
    "En el siguiente ejemplo solo de usa una objeto de la librería "
   ]
  }
 ],
 "metadata": {
  "kernelspec": {
   "display_name": "Python 3",
   "language": "python",
   "name": "python3"
  },
  "language_info": {
   "codemirror_mode": {
    "name": "ipython",
    "version": 3
   },
   "file_extension": ".py",
   "mimetype": "text/x-python",
   "name": "python",
   "nbconvert_exporter": "python",
   "pygments_lexer": "ipython3",
   "version": "3.12.3"
  }
 },
 "nbformat": 4,
 "nbformat_minor": 2
}
