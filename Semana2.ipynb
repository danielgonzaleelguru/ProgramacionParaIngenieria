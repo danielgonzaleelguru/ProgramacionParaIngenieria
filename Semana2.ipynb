{
 "cells": [
  {
   "cell_type": "markdown",
   "metadata": {},
   "source": [
    "# Variables y operaciones con Variables"
   ]
  },
  {
   "cell_type": "code",
   "execution_count": 5,
   "metadata": {},
   "outputs": [
    {
     "name": "stdout",
     "output_type": "stream",
     "text": [
      "El resultado es 3\n"
     ]
    }
   ],
   "source": [
    "a=5;b=7\n",
    "suma = a+b\n",
    "print(\"El resultado es\",18//6)"
   ]
  },
  {
   "cell_type": "markdown",
   "metadata": {},
   "source": [
    "# Operadores aritméticos"
   ]
  },
  {
   "cell_type": "markdown",
   "metadata": {},
   "source": [
    "| Operadores | Descripción | Uso |\n",
    "|----------|----------|----------|\n",
    "| +    | Suma | 12+3=5   |\n",
    "| -    | Resta  | 10-2=8   |\n",
    "| *    | Multiplicación | 2*3=6  |\n",
    "| /    | División   | 18/6=6   |\n",
    "| / /   | División Entera(Retorna el cociente entero de la división)   | 18 //5 =3,6 Pero solo retorna 3  |\n",
    "| %   | Retorna el residuo o módulo de la división   | 16 % 3=1   |\n",
    "| **   | Retorna o devuelve la potencia de los operandos   | 2 ** 3=8   |"
   ]
  }
 ],
 "metadata": {
  "language_info": {
   "name": "python"
  }
 },
 "nbformat": 4,
 "nbformat_minor": 2
}
