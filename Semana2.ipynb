{
 "cells": [
  {
   "cell_type": "markdown",
   "metadata": {},
   "source": [
    "# Variables y operaciones con Variables"
   ]
  },
  {
   "cell_type": "code",
   "execution_count": 16,
   "metadata": {},
   "outputs": [
    {
     "name": "stdout",
     "output_type": "stream",
     "text": [
      "4j\n",
      "(5+5j)\n",
      "5 True Daniel 4.5\n",
      "<class 'str'> <class 'bool'> <class 'int'> <class 'complex'> <class 'str'>\n"
     ]
    }
   ],
   "source": [
    "a=5\n",
    "b=True # variables booleana\n",
    "c=\"Daniel\" # variable de cadena o String con comillas dobles\n",
    "cadena2='S' # variables tipo string con comillas sencillas\n",
    "d=4.5 # variable decimal (coma flotante)\n",
    "\n",
    "numeros_racionales = 5/6 # cociente entre dos enteros\n",
    "\n",
    "numeros_imaginario=4j\n",
    "print(numeros_imaginario)\n",
    "\n",
    "numero_complejo= 5+5j # parte real y parte imaginaria*j\n",
    "print(numero_complejo)\n",
    "\n",
    "print(a,b,c,d) #uso la función print para mostrar las variables\n",
    "print(type(c),type(b),type(a),type(numero_complejo),type(char)) # uso la función type para mostrar el tipo de variable"
   ]
  },
  {
   "cell_type": "markdown",
   "metadata": {},
   "source": [
    "## Operadores aritméticos"
   ]
  },
  {
   "cell_type": "markdown",
   "metadata": {},
   "source": [
    "| Operadores | Descripción | Ejemplo |\n",
    "|----------|----------|----------|\n",
    "| +    | Suma | 12+3=5   |\n",
    "| -    | Resta  | 10-2=8   |\n",
    "| *    | Multiplicación | 2*3=6  |\n",
    "| /    | División   | 18/6=6   |\n",
    "| / /   | División Entera(Retorna el cociente entero de la división)   | 18 //5 =3,6 Pero solo retorna 3  |\n",
    "| %   | Retorna el residuo o módulo de la división   | 16 % 3=1   |\n",
    "| **   | Retorna o devuelve la potencia de los operandos   | 2 ** 3=8   |"
   ]
  },
  {
   "cell_type": "code",
   "execution_count": 12,
   "metadata": {},
   "outputs": [
    {
     "name": "stdout",
     "output_type": "stream",
     "text": [
      "El resultado es 3\n",
      "64\n",
      "Sumando complejos\n",
      "La suma de complejos (13+15j)\n"
     ]
    }
   ],
   "source": [
    "a=5;b=7\n",
    "suma = a+b\n",
    "print(\"El resultado es\",18//6)\n",
    "potencia=2**6\n",
    "print(potencia)\n",
    "\n",
    "print(\"Sumando complejos\")\n",
    "c1=6+7j\n",
    "c2=7+8j\n",
    "print(\"La suma de complejos\",c1+c2)\n",
    "print(\"La suma de Resta\",c1-c2)\n",
    "print(\"La suma de Multiplicación\",c1-c2)\n",
    "print(\"La suma de Multiplicación\",c1-c2)\n"
   ]
  },
  {
   "cell_type": "markdown",
   "metadata": {},
   "source": [
    "## Operadores relacionales"
   ]
  },
  {
   "cell_type": "markdown",
   "metadata": {},
   "source": [
    "| Operadores | Descripción | Ejemplo |\n",
    "|----------|----------|----------|\n",
    "| <   | Menor | 2<3=True   |\n",
    "| >   | Mayor  | 10>2=True   |\n",
    "| <=   | Menor e igual | 2<=2=True  |\n",
    "| >=    | Mayor e igual   | 10>=11=False   |\n",
    "| !=  | Diferente   | 18 !=18=False  |\n",
    "| ==  | Igual  | 18==19=False   |\n"
   ]
  },
  {
   "cell_type": "code",
   "execution_count": 13,
   "metadata": {},
   "outputs": [
    {
     "name": "stdout",
     "output_type": "stream",
     "text": [
      "True\n"
     ]
    }
   ],
   "source": [
    "a=10\n",
    "b=2\n",
    "resultado =2 != 2\n",
    "print(resultado)"
   ]
  },
  {
   "cell_type": "markdown",
   "metadata": {},
   "source": [
    "## Operadores Lógicos"
   ]
  },
  {
   "cell_type": "markdown",
   "metadata": {},
   "source": [
    "### Tabla de verdad: Herramienta para estimar el valor de una expresión booleana con el operador \"and\" y \"or\"\n",
    "#### Tabla de verdad del operador and(Y)\n",
    "| Expresion 1 | operador lógico | Expresión 2 | Resultado |\n",
    "|----------|----------|----------|----------|\n",
    "| V  | and  | V   | V   |\n",
    "| V  | and  | F   | F   |\n",
    "| F  | and  | V   | F   |\n",
    "| F  | and  | F   | F   |\n",
    "\n",
    "#### Tabla de verdad del operador or(o)\n",
    "\n",
    "| Expresion 1 | operador lógico | Expresión 2 | Resultado |\n",
    "|----------|----------|----------|----------|\n",
    "| V  | or  | V   | V   |\n",
    "| V  | or  | F   | V   |\n",
    "| F  | or  | V   | V   |\n",
    "| F  | or  | F   | F   |\n",
    "\n",
    "#### Ejemplos con operadores lógicos:\n",
    "| Operadores | Descripción | Ejemplo |\n",
    "|----------|----------|----------|\n",
    "| and  | Y | (2<3) and (3>6)=False    |\n",
    "| or  | O  | (10>2) or (5>=8)= True   |\n",
    "| not   | Negación| not((10>2) or (5>=8))= True |\n"
   ]
  },
  {
   "cell_type": "code",
   "execution_count": 21,
   "metadata": {},
   "outputs": [
    {
     "name": "stdout",
     "output_type": "stream",
     "text": [
      "False\n",
      "True\n",
      "False\n"
     ]
    }
   ],
   "source": [
    "print((2<3) and (3>6))\n",
    "print((10>2) or (5>=8))\n",
    "print(not((10>2) or (5>=8)))"
   ]
  },
  {
   "cell_type": "markdown",
   "metadata": {},
   "source": [
    "## Práctica"
   ]
  },
  {
   "cell_type": "markdown",
   "metadata": {},
   "source": [
    "a. Cree una cuaderno jupyter notebook que realice las siguiente soperaciones:\n",
    "\n",
    " 1. Suma\n",
    " 2. Resta\n",
    " 3. Multiplicación\n",
    " 4. División\n",
    " 5. Potencia\n",
    " 6. Evalución booleana de expresiones aritméticas\n",
    "\n",
    " \n",
    "    \n",
    "\n"
   ]
  }
 ],
 "metadata": {
  "kernelspec": {
   "display_name": "Python 3",
   "language": "python",
   "name": "python3"
  },
  "language_info": {
   "codemirror_mode": {
    "name": "ipython",
    "version": 3
   },
   "file_extension": ".py",
   "mimetype": "text/x-python",
   "name": "python",
   "nbconvert_exporter": "python",
   "pygments_lexer": "ipython3",
   "version": "3.12.0"
  }
 },
 "nbformat": 4,
 "nbformat_minor": 2
}
