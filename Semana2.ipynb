{
 "cells": [
  {
   "cell_type": "markdown",
   "metadata": {},
   "source": [
    "# Variables y operaciones con Variables"
   ]
  },
  {
   "cell_type": "code",
   "execution_count": 9,
   "metadata": {},
   "outputs": [
    {
     "name": "stdout",
     "output_type": "stream",
     "text": [
      "5 True Daniel 4.5\n"
     ]
    }
   ],
   "source": [
    "a=5\n",
    "b=True # variables booleana\n",
    "c=\"Daniel\" # variable de cadena o String\n",
    "d=4.5 # variable decimal, coma flotante\n",
    "e=\n",
    "print(a,b,c,d)\n"
   ]
  },
  {
   "cell_type": "markdown",
   "metadata": {},
   "source": [
    "## Operadores aritméticos"
   ]
  },
  {
   "cell_type": "markdown",
   "metadata": {},
   "source": [
    "| Operadores | Descripción | Ejemplo |\n",
    "|----------|----------|----------|\n",
    "| +    | Suma | 12+3=5   |\n",
    "| -    | Resta  | 10-2=8   |\n",
    "| *    | Multiplicación | 2*3=6  |\n",
    "| /    | División   | 18/6=6   |\n",
    "| / /   | División Entera(Retorna el cociente entero de la división)   | 18 //5 =3,6 Pero solo retorna 3  |\n",
    "| %   | Retorna el residuo o módulo de la división   | 16 % 3=1   |\n",
    "| **   | Retorna o devuelve la potencia de los operandos   | 2 ** 3=8   |"
   ]
  },
  {
   "cell_type": "code",
   "execution_count": 10,
   "metadata": {},
   "outputs": [
    {
     "name": "stdout",
     "output_type": "stream",
     "text": [
      "El resultado es 3\n",
      "64\n"
     ]
    }
   ],
   "source": [
    "a=5;b=7\n",
    "suma = a+b\n",
    "print(\"El resultado es\",18//6)\n",
    "potencia=2**6\n",
    "print(potencia)"
   ]
  },
  {
   "cell_type": "markdown",
   "metadata": {},
   "source": [
    "## Operadores relacionales"
   ]
  },
  {
   "cell_type": "markdown",
   "metadata": {},
   "source": [
    "| Operadores | Descripción | Ejemplo |\n",
    "|----------|----------|----------|\n",
    "| <   | Menor | 2<3=True   |\n",
    "| >   | Mayor  | 10>2=True   |\n",
    "| <=   | Menor e igual | 2<=2=True  |\n",
    "| >=    | Mayor e igual   | 10>=11=False   |\n",
    "| !=  | Diferente   | 18 !=18=False  |\n",
    "| ==  | Igual  | 18==19=False   |\n"
   ]
  },
  {
   "cell_type": "code",
   "execution_count": 13,
   "metadata": {},
   "outputs": [
    {
     "name": "stdout",
     "output_type": "stream",
     "text": [
      "True\n"
     ]
    }
   ],
   "source": [
    "a=10\n",
    "b=2\n",
    "resultado =2 != 2\n",
    "print(resultado)"
   ]
  },
  {
   "cell_type": "markdown",
   "metadata": {},
   "source": [
    "## Ejercicios"
   ]
  }
 ],
 "metadata": {
  "language_info": {
   "name": "python"
  }
 },
 "nbformat": 4,
 "nbformat_minor": 2
}
